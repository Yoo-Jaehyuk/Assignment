{
  "nbformat": 4,
  "nbformat_minor": 0,
  "metadata": {
    "colab": {
      "name": "Untitled1.ipynb",
      "provenance": []
    },
    "kernelspec": {
      "name": "python3",
      "display_name": "Python 3"
    }
  },
  "cells": [
    {
      "cell_type": "code",
      "metadata": {
        "id": "bBPqSNbTmIzv",
        "colab_type": "code",
        "colab": {
          "base_uri": "https://localhost:8080/",
          "height": 35
        },
        "outputId": "074b6282-eccc-41d6-b8e3-61f850168124"
      },
      "source": [
        "# Q1\n",
        "print('Today is Tuesday')"
      ],
      "execution_count": 1,
      "outputs": [
        {
          "output_type": "stream",
          "text": [
            "Today is Tuesday\n"
          ],
          "name": "stdout"
        }
      ]
    },
    {
      "cell_type": "code",
      "metadata": {
        "id": "tZ04IobCtllZ",
        "colab_type": "code",
        "colab": {
          "base_uri": "https://localhost:8080/",
          "height": 35
        },
        "outputId": "2f95352a-7f82-4a99-dbc5-770f7eef6911"
      },
      "source": [
        "# Q2 (1)\n",
        "a=6/2\n",
        "a_t = type(a)\n",
        "print(a, \"/ type:\" , a_t)"
      ],
      "execution_count": 4,
      "outputs": [
        {
          "output_type": "stream",
          "text": [
            "3.0 / type: <class 'float'>\n"
          ],
          "name": "stdout"
        }
      ]
    },
    {
      "cell_type": "code",
      "metadata": {
        "id": "5VUFVWapt75V",
        "colab_type": "code",
        "colab": {
          "base_uri": "https://localhost:8080/",
          "height": 35
        },
        "outputId": "eefec70c-078a-4a25-99b2-85ce6ea02abd"
      },
      "source": [
        "# Q2 (2)\n",
        "b=6//2\n",
        "b_t = type(b)\n",
        "print(b, '/ type', b_t)"
      ],
      "execution_count": 6,
      "outputs": [
        {
          "output_type": "stream",
          "text": [
            "3 / type <class 'int'>\n"
          ],
          "name": "stdout"
        }
      ]
    },
    {
      "cell_type": "code",
      "metadata": {
        "id": "53iPWb4juGHo",
        "colab_type": "code",
        "colab": {
          "base_uri": "https://localhost:8080/",
          "height": 35
        },
        "outputId": "c379324e-a425-4acd-d4b9-c8e599a25c30"
      },
      "source": [
        "# Q3\n",
        "Min = 1000\n",
        "Hour = Min // 60\n",
        "Minute = 1000 % 60\n",
        "print('Hour : ', Hour, '/ Minute : ', Minute)"
      ],
      "execution_count": 4,
      "outputs": [
        {
          "output_type": "stream",
          "text": [
            "Hour :  16 / Minute :  40\n"
          ],
          "name": "stdout"
        }
      ]
    },
    {
      "cell_type": "code",
      "metadata": {
        "id": "bqRS1FaMI6bF",
        "colab_type": "code",
        "colab": {}
      },
      "source": [
        ""
      ],
      "execution_count": 0,
      "outputs": []
    }
  ]
}