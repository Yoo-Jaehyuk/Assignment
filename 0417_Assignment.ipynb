{
  "nbformat": 4,
  "nbformat_minor": 0,
  "metadata": {
    "colab": {
      "name": "0417 Assignment.ipynb",
      "provenance": [],
      "authorship_tag": "ABX9TyPejkxnSpNILITjPRYvNJky",
      "include_colab_link": true
    },
    "kernelspec": {
      "name": "python3",
      "display_name": "Python 3"
    }
  },
  "cells": [
    {
      "cell_type": "markdown",
      "metadata": {
        "id": "view-in-github",
        "colab_type": "text"
      },
      "source": [
        "<a href=\"https://colab.research.google.com/github/Yoo-Jaehyuk/Assignment/blob/master/0417_Assignment.ipynb\" target=\"_parent\"><img src=\"https://colab.research.google.com/assets/colab-badge.svg\" alt=\"Open In Colab\"/></a>"
      ]
    },
    {
      "cell_type": "code",
      "metadata": {
        "id": "r-dfwXeztx7i",
        "colab_type": "code",
        "colab": {
          "base_uri": "https://localhost:8080/",
          "height": 89
        },
        "outputId": "1cf0a97b-d45b-4685-804f-2f86309a1256"
      },
      "source": [
        "# Assignment 1\n",
        "# 1 (1)\n",
        "a_list = [1, 'hello', [1,2,3], True]\n",
        "print(a_list)\n",
        "# 1 (2) \n",
        "print(a_list [1])\n",
        "# 1 (3)\n",
        "print( a_list [1], a_list [2], a_list [3])\n",
        "# 1 (4)\n",
        "A = [1, 'a']\n",
        "B = [2, 1, 'd']\n",
        "print(A+B)"
      ],
      "execution_count": 3,
      "outputs": [
        {
          "output_type": "stream",
          "text": [
            "[1, 'hello', [1, 2, 3], True]\n",
            "hello\n",
            "hello [1, 2, 3] True\n",
            "[1, 'a', 2, 1, 'd']\n"
          ],
          "name": "stdout"
        }
      ]
    },
    {
      "cell_type": "code",
      "metadata": {
        "id": "aKmlUmSJlhJg",
        "colab_type": "code",
        "colab": {
          "base_uri": "https://localhost:8080/",
          "height": 53
        },
        "outputId": "e7d327a1-0de3-450c-9e2b-efd777329643"
      },
      "source": [
        "# Assignment 2\n",
        "soundtrack_dic = {\"The Bodyguard\":\"1992\", \"Saturday Night Fever\":\"1977\"}\n",
        "# 2 (1)\n",
        "print(soundtrack_dic.keys())\n",
        "# 2 (2)\n",
        "print(soundtrack_dic.values())"
      ],
      "execution_count": 12,
      "outputs": [
        {
          "output_type": "stream",
          "text": [
            "dict_keys(['The Bodyguard', 'Saturday Night Fever'])\n",
            "dict_values(['1992', '1977'])\n"
          ],
          "name": "stdout"
        }
      ]
    },
    {
      "cell_type": "code",
      "metadata": {
        "id": "m1Ion3h4qUxV",
        "colab_type": "code",
        "colab": {
          "base_uri": "https://localhost:8080/",
          "height": 89
        },
        "outputId": "94b53960-35d8-4bf0-db26-6849a9e2cca4"
      },
      "source": [
        "# Assignment 3\n",
        "# 3 (1)\n",
        "List1 =  ['rap','house','electronic music', 'rap']\n",
        "Set1 = set(List1)\n",
        "print(Set1)\n",
        "# 3 (2)\n",
        "listA = [1, 2, 2, 1]\n",
        "setB = set([1, 2, 2, 1])\n",
        "if(sum(listA) == sum(setB)):\n",
        "  print('same')\n",
        "else:\n",
        "  print('not same')\n",
        "# 3 (3)\n",
        "album_set1 = set([\"Thriller\", 'AC/DC', 'Back in Black'])\n",
        "album_set2 = set([ \"AC/DC\", \"Back in Black\", \"The Dark Side of the Moon\"])\n",
        "album_set3 = album_set1.union(album_set2)\n",
        "print(album_set3)\n",
        "# 3 (4)\n",
        "if ( album_set1 == album_set1.intersection(album_set2)):\n",
        "  print('album_set1 is a subset of album_set3')\n",
        "else:\n",
        "  print('album_set1 is not a subset of album_set3')"
      ],
      "execution_count": 17,
      "outputs": [
        {
          "output_type": "stream",
          "text": [
            "{'electronic music', 'rap', 'house'}\n",
            "not same\n",
            "{'Thriller', 'Back in Black', 'AC/DC', 'The Dark Side of the Moon'}\n",
            "album_set1 is not a subset of album_set3\n"
          ],
          "name": "stdout"
        }
      ]
    },
    {
      "cell_type": "code",
      "metadata": {
        "id": "u2cnIo_Pg8po",
        "colab_type": "code",
        "colab": {
          "base_uri": "https://localhost:8080/",
          "height": 35
        },
        "outputId": "270be6eb-ba9c-4d8e-feb5-b234eb088433"
      },
      "source": [
        "# Assignment 4-1\n",
        "Dict ={\"Artist\": \"Michael\", \"Genre\": \"R&B\", \"Sales\": 10000}\n",
        "if(Dict[\"Artist\"] == \"Michael\"):\n",
        "  print(Dict['Genre'])"
      ],
      "execution_count": 22,
      "outputs": [
        {
          "output_type": "stream",
          "text": [
            "R&B\n"
          ],
          "name": "stdout"
        }
      ]
    },
    {
      "cell_type": "code",
      "metadata": {
        "id": "qf0oWSwZoUOo",
        "colab_type": "code",
        "colab": {
          "base_uri": "https://localhost:8080/",
          "height": 125
        },
        "outputId": "d98ec426-42f3-4cfb-9f1b-5fb344f2cade"
      },
      "source": [
        "# Assignment 4-2\n",
        "# 4-2 (1)\n",
        "def f(k):\n",
        "  if (k >= 0):\n",
        "    c = k - 273\n",
        "    f = c*1.8 + 32\n",
        "    print('Celcius : ', c, 'about', k)\n",
        "    print('Fahrenheit : ', f, 'about', k)\n",
        "  else:\n",
        "    print('This temperature (', k, ') is not able to exist in physics ')\n",
        "\n",
        "f(-300)\n",
        "f(7000)\n",
        "\n",
        "# 4-2 (2)\n",
        "L = [1, 2, 3, 5, 9, 31, 28, 91]\n",
        "n = 0\n",
        "m = 0\n",
        "for i in L :\n",
        "  if ( i%2 == 0):\n",
        "    n = n +1\n",
        "  else:\n",
        "    m=m+1\n",
        "print('Even : ',n)\n",
        "print('Odd : ',m)\n",
        "# 4-2 (3)\n",
        "t = 0\n",
        "for j in L:\n",
        "  h=1\n",
        "  q=0\n",
        "  while(h < j): \n",
        "    if( j%h != 0):\n",
        "      q= q+1\n",
        "    if(q == j-2):\n",
        "      t = t+1\n",
        "    h = h+1\n",
        "print('Prime Number : ',t)\n",
        "\n",
        "# I have not learned python at all, so I have studied those algorithms myself to do the assignment for 2 days. "
      ],
      "execution_count": 61,
      "outputs": [
        {
          "output_type": "stream",
          "text": [
            "This temperature ( -300 ) is not able to exist in physics \n",
            "Celcius :  6727 about 7000\n",
            "Fahrenheit :  12140.6 about 7000\n",
            "Even :  2\n",
            "Odd :  6\n",
            "Prime Number :  4\n"
          ],
          "name": "stdout"
        }
      ]
    },
    {
      "cell_type": "code",
      "metadata": {
        "id": "wXTsJQFdy4CG",
        "colab_type": "code",
        "colab": {}
      },
      "source": [
        ""
      ],
      "execution_count": 0,
      "outputs": []
    }
  ]
}