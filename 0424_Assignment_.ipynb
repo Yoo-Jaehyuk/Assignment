{
  "nbformat": 4,
  "nbformat_minor": 0,
  "metadata": {
    "colab": {
      "name": "0424_Assignment .ipynb",
      "provenance": [],
      "authorship_tag": "ABX9TyNqh+9C9eFmAUIgmd3YWpxF",
      "include_colab_link": true
    },
    "kernelspec": {
      "name": "python3",
      "display_name": "Python 3"
    }
  },
  "cells": [
    {
      "cell_type": "markdown",
      "metadata": {
        "id": "view-in-github",
        "colab_type": "text"
      },
      "source": [
        "<a href=\"https://colab.research.google.com/github/Yoo-Jaehyuk/Assignment/blob/master/0424_Assignment_.ipynb\" target=\"_parent\"><img src=\"https://colab.research.google.com/assets/colab-badge.svg\" alt=\"Open In Colab\"/></a>"
      ]
    },
    {
      "cell_type": "code",
      "metadata": {
        "id": "WS3jPi8y7IDW",
        "colab_type": "code",
        "colab": {}
      },
      "source": [
        "# Assignment1\n",
        "import matplotlib.pyplot as plt\n",
        "class Rectangle(object):\n",
        "\n",
        "  def __init__(self, width, height, color):\n",
        "    self.width = width\n",
        "    self.height = height\n",
        "    self.color = color \n",
        "  \n",
        "  def add_width(self, a):\n",
        "    self.width = self.width + a #self.radius= 5 when RedCircle is initialized..\n",
        "    return(self.width)\n",
        "\n",
        "  def replace_color(self, b):\n",
        "    self.color = b\n",
        "    return(self.color)\n",
        "\n",
        "  def multiply_height(self, c):\n",
        "    self.height = self.height*c\n",
        "    return(self.height)\n",
        "\n",
        "  def drawRectangle(self):\n",
        "    plt.gca().add_patch(plt.Rectangle((0,0), self.width, self.height, fc = self.color))\n",
        "    plt.axis('scaled')\n",
        "    plt.show()\n",
        "\n",
        "  def cal(self):\n",
        "      k = self.width * self.height\n",
        "      print(k)"
      ],
      "execution_count": 0,
      "outputs": []
    },
    {
      "cell_type": "code",
      "metadata": {
        "id": "mq3-b_XLTvIJ",
        "colab_type": "code",
        "colab": {
          "base_uri": "https://localhost:8080/",
          "height": 265
        },
        "outputId": "27534f3e-d9b3-4bff-a762-3214ed96d1de"
      },
      "source": [
        "Rectangle_A = Rectangle(5, 10, 'red')\n",
        "Rectangle_A.drawRectangle()"
      ],
      "execution_count": 54,
      "outputs": [
        {
          "output_type": "display_data",
          "data": {
            "image/png": "[encoded data removed]",
            "text/plain": [
              "<Figure size 432x288 with 1 Axes>"
            ]
          },
          "metadata": {
            "tags": [],
            "needs_background": "light"
          }
        }
      ]
    },
    {
      "cell_type": "code",
      "metadata": {
        "id": "epezeYX0UDem",
        "colab_type": "code",
        "colab": {
          "base_uri": "https://localhost:8080/",
          "height": 265
        },
        "outputId": "26bc6e21-dcfa-4086-f0dd-fc7c41cfa1b7"
      },
      "source": [
        "Rectangle_A.add_width(5)\n",
        "Rectangle_A.drawRectangle()"
      ],
      "execution_count": 55,
      "outputs": [
        {
          "output_type": "display_data",
          "data": {
            "image/png": "[encoded data removed]",
            "text/plain": [
              "<Figure size 432x288 with 1 Axes>"
            ]
          },
          "metadata": {
            "tags": [],
            "needs_background": "light"
          }
        }
      ]
    },
    {
      "cell_type": "code",
      "metadata": {
        "id": "MHodwTaRWC1y",
        "colab_type": "code",
        "colab": {
          "base_uri": "https://localhost:8080/",
          "height": 265
        },
        "outputId": "964e328b-9332-4f25-98dd-a468f66bb584"
      },
      "source": [
        "Rectangle_A.replace_color('blue')\n",
        "Rectangle_A.drawRectangle()"
      ],
      "execution_count": 56,
      "outputs": [
        {
          "output_type": "display_data",
          "data": {
            "image/png": "[encoded data removed]",
            "text/plain": [
              "<Figure size 432x288 with 1 Axes>"
            ]
          },
          "metadata": {
            "tags": [],
            "needs_background": "light"
          }
        }
      ]
    },
    {
      "cell_type": "code",
      "metadata": {
        "id": "at6H5BlCWQib",
        "colab_type": "code",
        "colab": {
          "base_uri": "https://localhost:8080/",
          "height": 265
        },
        "outputId": "75716024-ee49-4ba4-f5c6-2ae57ad64d6e"
      },
      "source": [
        "Rectangle_A.multiply_height(3)\n",
        "Rectangle_A.drawRectangle()"
      ],
      "execution_count": 57,
      "outputs": [
        {
          "output_type": "display_data",
          "data": {
            "image/png": "[encoded data removed]",
            "text/plain": [
              "<Figure size 432x288 with 1 Axes>"
            ]
          },
          "metadata": {
            "tags": [],
            "needs_background": "light"
          }
        }
      ]
    },
    {
      "cell_type": "code",
      "metadata": {
        "id": "egwZfic5TOmD",
        "colab_type": "code",
        "colab": {
          "base_uri": "https://localhost:8080/",
          "height": 35
        },
        "outputId": "9dcd8dfc-1b53-40d1-ebd1-05a64ae39793"
      },
      "source": [
        "# Assignment2\n",
        "!wget -o example https://docs.google.com/spreadsheets/d/1k1sTZrrY0vEwx6B4Yp2CGbrzjD5bitoKODpHPs8qhaU/edit#gid=0\n",
        "!wget -o example0 https://docs.google.com/spreadsheets/d/1pO8u2ZzvbnD_ZZqUzpdRqhKIT2CAQzBPRka4Wtpd3hg/edit#gid=0\n",
        "from google.colab import drive\n",
        "drive.mount('/content/gdrive')"
      ],
      "execution_count": 58,
      "outputs": [
        {
          "output_type": "stream",
          "text": [
            "Drive already mounted at /content/gdrive; to attempt to forcibly remount, call drive.mount(\"/content/gdrive\", force_remount=True).\n"
          ],
          "name": "stdout"
        }
      ]
    },
    {
      "cell_type": "code",
      "metadata": {
        "id": "lIdVQAJoW2xS",
        "colab_type": "code",
        "colab": {}
      },
      "source": [
        "example1 = '/content/gdrive/My Drive/circle1.csv'\n",
        "example2 = '/content/gdrive/My Drive/rectangle1.csv'\n",
        "file1 = open(example1, 'r')\n",
        "file2 = open(example2, 'r')"
      ],
      "execution_count": 0,
      "outputs": []
    },
    {
      "cell_type": "code",
      "metadata": {
        "id": "_j5es53-Ch_z",
        "colab_type": "code",
        "colab": {}
      },
      "source": [
        "import pandas as pd\n",
        "circle1 = pd.read_csv(example1)\n",
        "rectangle1 = pd.read_csv(example2)"
      ],
      "execution_count": 0,
      "outputs": []
    },
    {
      "cell_type": "code",
      "metadata": {
        "id": "b3IxZvFmW-k_",
        "colab_type": "code",
        "colab": {
          "base_uri": "https://localhost:8080/",
          "height": 204
        },
        "outputId": "23cb3810-bcd0-4ec5-fa7b-a8de8802090b"
      },
      "source": [
        "circle1.tail()"
      ],
      "execution_count": 77,
      "outputs": [
        {
          "output_type": "execute_result",
          "data": {
            "text/html": [
              "<div>\n",
              "<style scoped>\n",
              "    .dataframe tbody tr th:only-of-type {\n",
              "        vertical-align: middle;\n",
              "    }\n",
              "\n",
              "    .dataframe tbody tr th {\n",
              "        vertical-align: top;\n",
              "    }\n",
              "\n",
              "    .dataframe thead th {\n",
              "        text-align: right;\n",
              "    }\n",
              "</style>\n",
              "<table border=\"1\" class=\"dataframe\">\n",
              "  <thead>\n",
              "    <tr style=\"text-align: right;\">\n",
              "      <th></th>\n",
              "      <th>radius</th>\n",
              "      <th>colour</th>\n",
              "    </tr>\n",
              "  </thead>\n",
              "  <tbody>\n",
              "    <tr>\n",
              "      <th>0</th>\n",
              "      <td>1</td>\n",
              "      <td>red</td>\n",
              "    </tr>\n",
              "    <tr>\n",
              "      <th>1</th>\n",
              "      <td>2</td>\n",
              "      <td>blue</td>\n",
              "    </tr>\n",
              "    <tr>\n",
              "      <th>2</th>\n",
              "      <td>3</td>\n",
              "      <td>black</td>\n",
              "    </tr>\n",
              "    <tr>\n",
              "      <th>3</th>\n",
              "      <td>4</td>\n",
              "      <td>yellow</td>\n",
              "    </tr>\n",
              "    <tr>\n",
              "      <th>4</th>\n",
              "      <td>5</td>\n",
              "      <td>green</td>\n",
              "    </tr>\n",
              "  </tbody>\n",
              "</table>\n",
              "</div>"
            ],
            "text/plain": [
              "   radius  colour\n",
              "0       1     red\n",
              "1       2    blue\n",
              "2       3   black\n",
              "3       4  yellow\n",
              "4       5   green"
            ]
          },
          "metadata": {
            "tags": []
          },
          "execution_count": 77
        }
      ]
    },
    {
      "cell_type": "code",
      "metadata": {
        "id": "xWp7R_bSXA7T",
        "colab_type": "code",
        "colab": {
          "base_uri": "https://localhost:8080/",
          "height": 204
        },
        "outputId": "0238dee8-22ee-4d5a-9fc0-383e11adf4a1"
      },
      "source": [
        "rectangle1.tail()"
      ],
      "execution_count": 78,
      "outputs": [
        {
          "output_type": "execute_result",
          "data": {
            "text/html": [
              "<div>\n",
              "<style scoped>\n",
              "    .dataframe tbody tr th:only-of-type {\n",
              "        vertical-align: middle;\n",
              "    }\n",
              "\n",
              "    .dataframe tbody tr th {\n",
              "        vertical-align: top;\n",
              "    }\n",
              "\n",
              "    .dataframe thead th {\n",
              "        text-align: right;\n",
              "    }\n",
              "</style>\n",
              "<table border=\"1\" class=\"dataframe\">\n",
              "  <thead>\n",
              "    <tr style=\"text-align: right;\">\n",
              "      <th></th>\n",
              "      <th>height</th>\n",
              "      <th>width</th>\n",
              "      <th>colour</th>\n",
              "    </tr>\n",
              "  </thead>\n",
              "  <tbody>\n",
              "    <tr>\n",
              "      <th>0</th>\n",
              "      <td>1</td>\n",
              "      <td>5</td>\n",
              "      <td>red</td>\n",
              "    </tr>\n",
              "    <tr>\n",
              "      <th>1</th>\n",
              "      <td>2</td>\n",
              "      <td>4</td>\n",
              "      <td>blue</td>\n",
              "    </tr>\n",
              "    <tr>\n",
              "      <th>2</th>\n",
              "      <td>3</td>\n",
              "      <td>3</td>\n",
              "      <td>black</td>\n",
              "    </tr>\n",
              "    <tr>\n",
              "      <th>3</th>\n",
              "      <td>4</td>\n",
              "      <td>2</td>\n",
              "      <td>yellow</td>\n",
              "    </tr>\n",
              "    <tr>\n",
              "      <th>4</th>\n",
              "      <td>5</td>\n",
              "      <td>1</td>\n",
              "      <td>green</td>\n",
              "    </tr>\n",
              "  </tbody>\n",
              "</table>\n",
              "</div>"
            ],
            "text/plain": [
              "   height  width  colour\n",
              "0       1      5     red\n",
              "1       2      4    blue\n",
              "2       3      3   black\n",
              "3       4      2  yellow\n",
              "4       5      1   green"
            ]
          },
          "metadata": {
            "tags": []
          },
          "execution_count": 78
        }
      ]
    },
    {
      "cell_type": "code",
      "metadata": {
        "id": "ImRCN0sXXXW7",
        "colab_type": "code",
        "colab": {}
      },
      "source": [
        "import math\n",
        "class Circle(object): \n",
        "\n",
        "  def __init__(self, radius, color):\n",
        "    self.radius = radius\n",
        "    self.color = color \n",
        "\n",
        "  def add_radium(self, r):\n",
        "    self.radius = self.radius + r \n",
        "    return(self.radius)\n",
        "  \n",
        "  def drawCircle(self):\n",
        "    plt.gca().add_patch(plt.Circle((0,0), radius = self.radius, fc = self.color))\n",
        "    plt.axis('scaled')\n",
        "    plt.show()\n",
        "\n",
        "  def cal(self):\n",
        "    k = (self.radius**2)*math.pi\n",
        "    print(k)"
      ],
      "execution_count": 0,
      "outputs": []
    },
    {
      "cell_type": "code",
      "metadata": {
        "id": "i39GJOm3YM9h",
        "colab_type": "code",
        "colab": {
          "base_uri": "https://localhost:8080/",
          "height": 1000
        },
        "outputId": "f9a9dcd6-a6f3-482b-a3fe-6fb890a2af50"
      },
      "source": [
        "for i in range(5):\n",
        "  a = circle1['radius'][i]\n",
        "  b = circle['colour'][i]\n",
        "  Circle(a,b).drawCircle()"
      ],
      "execution_count": 100,
      "outputs": [
        {
          "output_type": "display_data",
          "data": {
            "image/png": "[encoded data removed]",
            "text/plain": [
              "<Figure size 432x288 with 1 Axes>"
            ]
          },
          "metadata": {
            "tags": [],
            "needs_background": "light"
          }
        },
        {
          "output_type": "display_data",
          "data": {
            "image/png": "[encoded data removed]",
            "text/plain": [
              "<Figure size 432x288 with 1 Axes>"
            ]
          },
          "metadata": {
            "tags": [],
            "needs_background": "light"
          }
        },
        {
          "output_type": "display_data",
          "data": {
            "image/png": "[encoded data removed]",
            "text/plain": [
              "<Figure size 432x288 with 1 Axes>"
            ]
          },
          "metadata": {
            "tags": [],
            "needs_background": "light"
          }
        },
        {
          "output_type": "display_data",
          "data": {
            "image/png": "[encoded data removed]",
            "text/plain": [
              "<Figure size 432x288 with 1 Axes>"
            ]
          },
          "metadata": {
            "tags": [],
            "needs_background": "light"
          }
        },
        {
          "output_type": "display_data",
          "data": {
            "image/png": "[encoded data removed]",
            "text/plain": [
              "<Figure size 432x288 with 1 Axes>"
            ]
          },
          "metadata": {
            "tags": [],
            "needs_background": "light"
          }
        }
      ]
    },
    {
      "cell_type": "code",
      "metadata": {
        "id": "q7Qn-77pZCa4",
        "colab_type": "code",
        "colab": {
          "base_uri": "https://localhost:8080/",
          "height": 1000
        },
        "outputId": "e11ad0f8-a2bb-413a-ae7e-16259ea5aa81"
      },
      "source": [
        "for i in range(5):\n",
        "  a = rectangle1['width'][i]\n",
        "  b = rectangle1['height'][i]\n",
        "  c = rectangle1['colour'][i]\n",
        "  Rectangle(a, b, c).drawRectangle()"
      ],
      "execution_count": 101,
      "outputs": [
        {
          "output_type": "display_data",
          "data": {
            "image/png": "[encoded data removed]",
            "text/plain": [
              "<Figure size 432x288 with 1 Axes>"
            ]
          },
          "metadata": {
            "tags": [],
            "needs_background": "light"
          }
        },
        {
          "output_type": "display_data",
          "data": {
            "image/png": "[encoded data removed]",
            "text/plain": [
              "<Figure size 432x288 with 1 Axes>"
            ]
          },
          "metadata": {
            "tags": [],
            "needs_background": "light"
          }
        },
        {
          "output_type": "display_data",
          "data": {
            "image/png": "[encoded data removed]",
            "text/plain": [
              "<Figure size 432x288 with 1 Axes>"
            ]
          },
          "metadata": {
            "tags": [],
            "needs_background": "light"
          }
        },
        {
          "output_type": "display_data",
          "data": {
            "image/png": "[encoded data removed]",
            "text/plain": [
              "<Figure size 432x288 with 1 Axes>"
            ]
          },
          "metadata": {
            "tags": [],
            "needs_background": "light"
          }
        },
        {
          "output_type": "display_data",
          "data": {
            "image/png": "[encoded data removed]",
            "text/plain": [
              "<Figure size 432x288 with 1 Axes>"
            ]
          },
          "metadata": {
            "tags": [],
            "needs_background": "light"
          }
        }
      ]
    },
    {
      "cell_type": "code",
      "metadata": {
        "id": "JDXK_ej8aaMK",
        "colab_type": "code",
        "colab": {
          "base_uri": "https://localhost:8080/",
          "height": 107
        },
        "outputId": "61f8f066-8522-4511-97fe-84e7847c7d2f"
      },
      "source": [
        "for i in range(5):\n",
        "  a = rectangle1['width'][i]\n",
        "  b = rectangle1['height'][i]\n",
        "  c = rectangle1['colour'][i]\n",
        "  Rectangle(a, b, c).cal()"
      ],
      "execution_count": 124,
      "outputs": [
        {
          "output_type": "stream",
          "text": [
            "5\n",
            "8\n",
            "9\n",
            "8\n",
            "5\n"
          ],
          "name": "stdout"
        }
      ]
    },
    {
      "cell_type": "code",
      "metadata": {
        "id": "VwAhjApUdLnK",
        "colab_type": "code",
        "colab": {
          "base_uri": "https://localhost:8080/",
          "height": 107
        },
        "outputId": "93254584-4927-4d52-b442-cfc8708db59a"
      },
      "source": [
        "for i in range(5):\n",
        "  a = circle1['radius'][i]\n",
        "  b = circle1['colour'][i]\n",
        "  Circle(a, b).cal()"
      ],
      "execution_count": 125,
      "outputs": [
        {
          "output_type": "stream",
          "text": [
            "3.141592653589793\n",
            "12.566370614359172\n",
            "28.274333882308138\n",
            "50.26548245743669\n",
            "78.53981633974483\n"
          ],
          "name": "stdout"
        }
      ]
    },
    {
      "cell_type": "code",
      "metadata": {
        "id": "tXOIi_rWdhj6",
        "colab_type": "code",
        "colab": {}
      },
      "source": [
        "# Each method that calculates the size of shpe is in each shape's class."
      ],
      "execution_count": 0,
      "outputs": []
    }
  ]
}