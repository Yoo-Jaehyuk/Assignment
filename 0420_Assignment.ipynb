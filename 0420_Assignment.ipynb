{
  "nbformat": 4,
  "nbformat_minor": 0,
  "metadata": {
    "colab": {
      "name": "0420.Assignment.ipynb",
      "provenance": [],
      "authorship_tag": "ABX9TyMJ1IFCScUdV7gIyy1ElWR1",
      "include_colab_link": true
    },
    "kernelspec": {
      "name": "python3",
      "display_name": "Python 3"
    }
  },
  "cells": [
    {
      "cell_type": "markdown",
      "metadata": {
        "id": "view-in-github",
        "colab_type": "text"
      },
      "source": [
        "<a href=\"https://colab.research.google.com/github/Yoo-Jaehyuk/Assignment/blob/master/0420_Assignment.ipynb\" target=\"_parent\"><img src=\"https://colab.research.google.com/assets/colab-badge.svg\" alt=\"Open In Colab\"/></a>"
      ]
    },
    {
      "cell_type": "code",
      "metadata": {
        "id": "78WB8dzSD0Df",
        "colab_type": "code",
        "colab": {
          "base_uri": "https://localhost:8080/",
          "height": 1000
        },
        "outputId": "3defce1e-bea5-4a82-fff6-eb29bf9b1627"
      },
      "source": [
        "# Assignment 1\n",
        "\n",
        "# Method in '0420_Loop_practce'\n",
        "x = 3\n",
        "\n",
        "for i in range(100):\n",
        "  y = x**2 +1 # optimal minimum is (x = 0, y =1)\n",
        "  y_prime = 2*x #I used the hot-coding \n",
        "\n",
        "  if(y_prime > 0):\n",
        "    x = x - 0.1 \n",
        "  else: \n",
        "    x = x + 0.1 \n",
        "  if (y < 1.1): \n",
        "    print(\"The Optimal Solution of X is \", x, \"and y is at X is \", y, \"and we found the solution\")\n",
        "  else: print (\"in\", i, \"th time we could not reach to the optimal\")"
      ],
      "execution_count": 1,
      "outputs": [
        {
          "output_type": "stream",
          "text": [
            "in 0 th time we could not reach to the optimal\n",
            "in 1 th time we could not reach to the optimal\n",
            "in 2 th time we could not reach to the optimal\n",
            "in 3 th time we could not reach to the optimal\n",
            "in 4 th time we could not reach to the optimal\n",
            "in 5 th time we could not reach to the optimal\n",
            "in 6 th time we could not reach to the optimal\n",
            "in 7 th time we could not reach to the optimal\n",
            "in 8 th time we could not reach to the optimal\n",
            "in 9 th time we could not reach to the optimal\n",
            "in 10 th time we could not reach to the optimal\n",
            "in 11 th time we could not reach to the optimal\n",
            "in 12 th time we could not reach to the optimal\n",
            "in 13 th time we could not reach to the optimal\n",
            "in 14 th time we could not reach to the optimal\n",
            "in 15 th time we could not reach to the optimal\n",
            "in 16 th time we could not reach to the optimal\n",
            "in 17 th time we could not reach to the optimal\n",
            "in 18 th time we could not reach to the optimal\n",
            "in 19 th time we could not reach to the optimal\n",
            "in 20 th time we could not reach to the optimal\n",
            "in 21 th time we could not reach to the optimal\n",
            "in 22 th time we could not reach to the optimal\n",
            "in 23 th time we could not reach to the optimal\n",
            "in 24 th time we could not reach to the optimal\n",
            "in 25 th time we could not reach to the optimal\n",
            "in 26 th time we could not reach to the optimal\n",
            "The Optimal Solution of X is  0.19999999999999848 and y is at X is  1.0899999999999992 and we found the solution\n",
            "The Optimal Solution of X is  0.09999999999999848 and y is at X is  1.0399999999999994 and we found the solution\n",
            "The Optimal Solution of X is  -1.5265566588595902e-15 and y is at X is  1.0099999999999998 and we found the solution\n",
            "The Optimal Solution of X is  0.09999999999999848 and y is at X is  1.0 and we found the solution\n",
            "The Optimal Solution of X is  -1.5265566588595902e-15 and y is at X is  1.0099999999999998 and we found the solution\n",
            "The Optimal Solution of X is  0.09999999999999848 and y is at X is  1.0 and we found the solution\n",
            "The Optimal Solution of X is  -1.5265566588595902e-15 and y is at X is  1.0099999999999998 and we found the solution\n",
            "The Optimal Solution of X is  0.09999999999999848 and y is at X is  1.0 and we found the solution\n",
            "The Optimal Solution of X is  -1.5265566588595902e-15 and y is at X is  1.0099999999999998 and we found the solution\n",
            "The Optimal Solution of X is  0.09999999999999848 and y is at X is  1.0 and we found the solution\n",
            "The Optimal Solution of X is  -1.5265566588595902e-15 and y is at X is  1.0099999999999998 and we found the solution\n",
            "The Optimal Solution of X is  0.09999999999999848 and y is at X is  1.0 and we found the solution\n",
            "The Optimal Solution of X is  -1.5265566588595902e-15 and y is at X is  1.0099999999999998 and we found the solution\n",
            "The Optimal Solution of X is  0.09999999999999848 and y is at X is  1.0 and we found the solution\n",
            "The Optimal Solution of X is  -1.5265566588595902e-15 and y is at X is  1.0099999999999998 and we found the solution\n",
            "The Optimal Solution of X is  0.09999999999999848 and y is at X is  1.0 and we found the solution\n",
            "The Optimal Solution of X is  -1.5265566588595902e-15 and y is at X is  1.0099999999999998 and we found the solution\n",
            "The Optimal Solution of X is  0.09999999999999848 and y is at X is  1.0 and we found the solution\n",
            "The Optimal Solution of X is  -1.5265566588595902e-15 and y is at X is  1.0099999999999998 and we found the solution\n",
            "The Optimal Solution of X is  0.09999999999999848 and y is at X is  1.0 and we found the solution\n",
            "The Optimal Solution of X is  -1.5265566588595902e-15 and y is at X is  1.0099999999999998 and we found the solution\n",
            "The Optimal Solution of X is  0.09999999999999848 and y is at X is  1.0 and we found the solution\n",
            "The Optimal Solution of X is  -1.5265566588595902e-15 and y is at X is  1.0099999999999998 and we found the solution\n",
            "The Optimal Solution of X is  0.09999999999999848 and y is at X is  1.0 and we found the solution\n",
            "The Optimal Solution of X is  -1.5265566588595902e-15 and y is at X is  1.0099999999999998 and we found the solution\n",
            "The Optimal Solution of X is  0.09999999999999848 and y is at X is  1.0 and we found the solution\n",
            "The Optimal Solution of X is  -1.5265566588595902e-15 and y is at X is  1.0099999999999998 and we found the solution\n",
            "The Optimal Solution of X is  0.09999999999999848 and y is at X is  1.0 and we found the solution\n",
            "The Optimal Solution of X is  -1.5265566588595902e-15 and y is at X is  1.0099999999999998 and we found the solution\n",
            "The Optimal Solution of X is  0.09999999999999848 and y is at X is  1.0 and we found the solution\n",
            "The Optimal Solution of X is  -1.5265566588595902e-15 and y is at X is  1.0099999999999998 and we found the solution\n",
            "The Optimal Solution of X is  0.09999999999999848 and y is at X is  1.0 and we found the solution\n",
            "The Optimal Solution of X is  -1.5265566588595902e-15 and y is at X is  1.0099999999999998 and we found the solution\n",
            "The Optimal Solution of X is  0.09999999999999848 and y is at X is  1.0 and we found the solution\n",
            "The Optimal Solution of X is  -1.5265566588595902e-15 and y is at X is  1.0099999999999998 and we found the solution\n",
            "The Optimal Solution of X is  0.09999999999999848 and y is at X is  1.0 and we found the solution\n",
            "The Optimal Solution of X is  -1.5265566588595902e-15 and y is at X is  1.0099999999999998 and we found the solution\n",
            "The Optimal Solution of X is  0.09999999999999848 and y is at X is  1.0 and we found the solution\n",
            "The Optimal Solution of X is  -1.5265566588595902e-15 and y is at X is  1.0099999999999998 and we found the solution\n",
            "The Optimal Solution of X is  0.09999999999999848 and y is at X is  1.0 and we found the solution\n",
            "The Optimal Solution of X is  -1.5265566588595902e-15 and y is at X is  1.0099999999999998 and we found the solution\n",
            "The Optimal Solution of X is  0.09999999999999848 and y is at X is  1.0 and we found the solution\n",
            "The Optimal Solution of X is  -1.5265566588595902e-15 and y is at X is  1.0099999999999998 and we found the solution\n",
            "The Optimal Solution of X is  0.09999999999999848 and y is at X is  1.0 and we found the solution\n",
            "The Optimal Solution of X is  -1.5265566588595902e-15 and y is at X is  1.0099999999999998 and we found the solution\n",
            "The Optimal Solution of X is  0.09999999999999848 and y is at X is  1.0 and we found the solution\n",
            "The Optimal Solution of X is  -1.5265566588595902e-15 and y is at X is  1.0099999999999998 and we found the solution\n",
            "The Optimal Solution of X is  0.09999999999999848 and y is at X is  1.0 and we found the solution\n",
            "The Optimal Solution of X is  -1.5265566588595902e-15 and y is at X is  1.0099999999999998 and we found the solution\n",
            "The Optimal Solution of X is  0.09999999999999848 and y is at X is  1.0 and we found the solution\n",
            "The Optimal Solution of X is  -1.5265566588595902e-15 and y is at X is  1.0099999999999998 and we found the solution\n",
            "The Optimal Solution of X is  0.09999999999999848 and y is at X is  1.0 and we found the solution\n",
            "The Optimal Solution of X is  -1.5265566588595902e-15 and y is at X is  1.0099999999999998 and we found the solution\n",
            "The Optimal Solution of X is  0.09999999999999848 and y is at X is  1.0 and we found the solution\n",
            "The Optimal Solution of X is  -1.5265566588595902e-15 and y is at X is  1.0099999999999998 and we found the solution\n",
            "The Optimal Solution of X is  0.09999999999999848 and y is at X is  1.0 and we found the solution\n",
            "The Optimal Solution of X is  -1.5265566588595902e-15 and y is at X is  1.0099999999999998 and we found the solution\n",
            "The Optimal Solution of X is  0.09999999999999848 and y is at X is  1.0 and we found the solution\n",
            "The Optimal Solution of X is  -1.5265566588595902e-15 and y is at X is  1.0099999999999998 and we found the solution\n",
            "The Optimal Solution of X is  0.09999999999999848 and y is at X is  1.0 and we found the solution\n",
            "The Optimal Solution of X is  -1.5265566588595902e-15 and y is at X is  1.0099999999999998 and we found the solution\n",
            "The Optimal Solution of X is  0.09999999999999848 and y is at X is  1.0 and we found the solution\n",
            "The Optimal Solution of X is  -1.5265566588595902e-15 and y is at X is  1.0099999999999998 and we found the solution\n",
            "The Optimal Solution of X is  0.09999999999999848 and y is at X is  1.0 and we found the solution\n",
            "The Optimal Solution of X is  -1.5265566588595902e-15 and y is at X is  1.0099999999999998 and we found the solution\n",
            "The Optimal Solution of X is  0.09999999999999848 and y is at X is  1.0 and we found the solution\n",
            "The Optimal Solution of X is  -1.5265566588595902e-15 and y is at X is  1.0099999999999998 and we found the solution\n",
            "The Optimal Solution of X is  0.09999999999999848 and y is at X is  1.0 and we found the solution\n",
            "The Optimal Solution of X is  -1.5265566588595902e-15 and y is at X is  1.0099999999999998 and we found the solution\n",
            "The Optimal Solution of X is  0.09999999999999848 and y is at X is  1.0 and we found the solution\n",
            "The Optimal Solution of X is  -1.5265566588595902e-15 and y is at X is  1.0099999999999998 and we found the solution\n",
            "The Optimal Solution of X is  0.09999999999999848 and y is at X is  1.0 and we found the solution\n",
            "The Optimal Solution of X is  -1.5265566588595902e-15 and y is at X is  1.0099999999999998 and we found the solution\n"
          ],
          "name": "stdout"
        }
      ]
    },
    {
      "cell_type": "code",
      "metadata": {
        "id": "UuHpxOaRF1Ac",
        "colab_type": "code",
        "colab": {
          "base_uri": "https://localhost:8080/",
          "height": 125
        },
        "outputId": "e8388d06-cfb8-42f2-cd67-17541f5ae872"
      },
      "source": [
        "# Newton method\n",
        "\n",
        "\n",
        "def g(x):\n",
        "  k = 0\n",
        "  j = x**2 + 1\n",
        "  if(x > 9 and x < 11):\n",
        "    u = 50\n",
        "  else:\n",
        "    u = 100\n",
        "  while ( abs(j-u) > 1.1):\n",
        "    if ( k%2 == 0):\n",
        "      y = x**2 + 1\n",
        "      y_prime = 2*x\n",
        "      if(y_prime == 0):\n",
        "        break    \n",
        "      w = -y/y_prime + x\n",
        "      u = w**2 + 1\n",
        "    else:\n",
        "      y = w**2 + 1\n",
        "      y_prime = 2*w\n",
        "      if(y_prime == 0):\n",
        "        break\n",
        "      x = -y/y_prime + w \n",
        "      j = x**2 + 1\n",
        "    k=k+1   \n",
        "  if (j < u):\n",
        "    print(j, x)\n",
        "  else:\n",
        "    print(u, w)\n",
        "  print(k)\n",
        "\n",
        "g(3)\n",
        "g(10)\n",
        "g(50)\n",
        "\n",
        "# I changed the condition of 'while' condition from delta x to delta y. Because I tried to equalize the conditions between Method in '0420_Loop_practce' and the Newton method."
      ],
      "execution_count": 126,
      "outputs": [
        {
          "output_type": "stream",
          "text": [
            "1.2166349630462592 -0.4654406117285632\n",
            "5\n",
            "1.0005715286768888 -0.023906665950920836\n",
            "4\n",
            "1.1857475202247403 -0.43098436192597545\n",
            "9\n"
          ],
          "name": "stdout"
        }
      ]
    },
    {
      "cell_type": "code",
      "metadata": {
        "id": "sH7VmKWx-rZd",
        "colab_type": "code",
        "colab": {}
      },
      "source": [
        "# Comparision"
      ],
      "execution_count": 0,
      "outputs": []
    },
    {
      "cell_type": "markdown",
      "metadata": {
        "id": "gcdJBMAuBKzS",
        "colab_type": "text"
      },
      "source": [
        "When we programmed Method in '0420_Loop_practce', the computer printed the results so many times. But when we programmed Newton's Method, computer calculated just few times. "
      ]
    }
  ]
}